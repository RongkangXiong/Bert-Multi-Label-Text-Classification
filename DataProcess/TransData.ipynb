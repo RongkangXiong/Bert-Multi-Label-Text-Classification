{
 "cells": [
  {
   "cell_type": "code",
   "execution_count": 3,
   "outputs": [
    {
     "name": "stderr",
     "output_type": "stream",
     "text": [
      "1233383it [00:03, 396392.31it/s]\n",
      "104171it [00:00, 328142.61it/s]\n"
     ]
    }
   ],
   "source": [
    "from DataProcess.utils.filehelper import read_csv_file\n",
    "from tqdm import tqdm\n",
    "import csv\n",
    "\n",
    "goods_same = read_csv_file('./data/goods_same.csv')[1:]\n",
    "goods_similar = read_csv_file('./data/goods_similar_correct.csv')[1:]"
   ],
   "metadata": {
    "collapsed": false,
    "pycharm": {
     "name": "#%%\n"
    }
   }
  },
  {
   "cell_type": "code",
   "execution_count": 9,
   "outputs": [
    {
     "name": "stderr",
     "output_type": "stream",
     "text": [
      "100%|██████████| 104170/104170 [00:00<00:00, 251837.62it/s]\n",
      "100%|██████████| 1233382/1233382 [00:04<00:00, 265237.95it/s]"
     ]
    },
    {
     "name": "stdout",
     "output_type": "stream",
     "text": [
      "422\n"
     ]
    },
    {
     "name": "stderr",
     "output_type": "stream",
     "text": [
      "\n"
     ]
    }
   ],
   "source": [
    "from DataProcess.utils.filehelper import join_prompt_strings\n",
    "# 有422个长度超过256\n",
    "\n",
    "final_data = []\n",
    "max_length = 0\n",
    "num_max_length = 0\n",
    "now_str = ''\n",
    "id = 0\n",
    "\n",
    "for data in tqdm(goods_similar):\n",
    "    if len(data)==7:\n",
    "        if data[5] == 1:\n",
    "            pass\n",
    "        else:\n",
    "            now_str = join_prompt_strings(prompt=\"对比相同和相似物资:\",str_a = data[3],str_b = data[4])\n",
    "            if len(now_str)>256:\n",
    "                num_max_length+=1\n",
    "            if len(now_str)>max_length:\n",
    "                max_length = len(now_str)\n",
    "            else:\n",
    "                final_data.append([id, now_str,data[5],data[6]])\n",
    "                id += 1\n",
    "\n",
    "for data in tqdm(goods_same):\n",
    "    if len(data) == 4:\n",
    "        now_str = join_prompt_strings(prompt=\"对比相同和相似物资:\",str_a = data[0],str_b = data[1])\n",
    "        if len(now_str)>256:\n",
    "                num_max_length+=1\n",
    "        if len(now_str)>max_length:\n",
    "            max_length = len(now_str)\n",
    "        else:\n",
    "            final_data.append([id,now_str,data[2],data[3]])\n",
    "            id += 1\n",
    "print(num_max_length)"
   ],
   "metadata": {
    "collapsed": false,
    "pycharm": {
     "name": "#%%\n"
    }
   }
  },
  {
   "cell_type": "code",
   "execution_count": 10,
   "outputs": [],
   "source": [
    "from sklearn.model_selection import train_test_split\n",
    "\n",
    "def split_data(data_list, test_size=0.1,stratify=False, random_state=42):\n",
    "    X = [data[0:2] for data in data_list]\n",
    "    y = [data[2:] for data in data_list]\n",
    "    if stratify:\n",
    "        X_train, X_test, y_train, y_test = train_test_split(X, y, test_size=test_size, random_state=random_state, stratify=y)\n",
    "    else:\n",
    "        X_train, X_test, y_train, y_test = train_test_split(X, y, test_size=test_size, random_state=random_state)\n",
    "    train_list = [x + list(y) for x, y in zip(X_train, y_train)]\n",
    "    test_list = [x + list(y) for x, y in zip(X_test, y_test)]\n",
    "    return train_list, test_list\n",
    "\n",
    "def export_to_csv(data_list, csv_path):\n",
    "    with open(csv_path, 'w', encoding='utf-8', newline='') as f:\n",
    "        writer = csv.writer(f)\n",
    "        writer.writerow(['id','data', 'same', 'similar'])  # 表头\n",
    "        for i, data in enumerate(data_list):\n",
    "            writer.writerow(data)\n",
    "\n",
    "train_data, test_data  =  split_data(final_data, test_size=0.1,stratify=True, random_state=114514)"
   ],
   "metadata": {
    "collapsed": false,
    "pycharm": {
     "name": "#%%\n"
    }
   }
  },
  {
   "cell_type": "code",
   "execution_count": 11,
   "outputs": [],
   "source": [
    "export_to_csv(train_data,'./processed/train.csv')\n",
    "export_to_csv(test_data, './processed/test.csv')"
   ],
   "metadata": {
    "collapsed": false,
    "pycharm": {
     "name": "#%%\n"
    }
   }
  }
 ],
 "metadata": {
  "kernelspec": {
   "name": "bertclass",
   "language": "python",
   "display_name": "BertClass"
  },
  "language_info": {
   "codemirror_mode": {
    "name": "ipython",
    "version": 2
   },
   "file_extension": ".py",
   "mimetype": "text/x-python",
   "name": "python",
   "nbconvert_exporter": "python",
   "pygments_lexer": "ipython2",
   "version": "2.7.6"
  }
 },
 "nbformat": 4,
 "nbformat_minor": 0
}