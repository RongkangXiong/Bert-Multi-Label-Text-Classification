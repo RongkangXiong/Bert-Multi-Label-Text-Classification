{
 "cells": [
  {
   "cell_type": "code",
   "execution_count": 3,
   "outputs": [
    {
     "name": "stderr",
     "output_type": "stream",
     "text": [
      "1233383it [00:03, 396392.31it/s]\n",
      "104171it [00:00, 328142.61it/s]\n"
     ]
    }
   ],
   "source": [
    "from DataProcess.utils.filehelper import read_csv_file\n",
    "from tqdm import tqdm\n",
    "import csv\n",
    "\n",
    "goods_same = read_csv_file('./data/goods_same.csv')[1:]\n",
    "goods_similar = read_csv_file('./data/goods_similar_correct.csv')[1:]"
   ],
   "metadata": {
    "collapsed": false,
    "pycharm": {
     "name": "#%%\n"
    }
   }
  },
  {
   "cell_type": "code",
   "execution_count": 9,
   "outputs": [
    {
     "name": "stderr",
     "output_type": "stream",
     "text": [
      "100%|██████████| 104170/104170 [00:00<00:00, 251837.62it/s]\n",
      "100%|██████████| 1233382/1233382 [00:04<00:00, 265237.95it/s]"
     ]
    },
    {
     "name": "stdout",
     "output_type": "stream",
     "text": [
      "422\n"
     ]
    },
    {
     "name": "stderr",
     "output_type": "stream",
     "text": [
      "\n"
     ]
    }
   ],
   "source": [
    "from DataProcess.utils.filehelper import join_prompt_strings\n",
    "# 有422个长度超过256\n",
    "\n",
    "final_data = []\n",
    "max_length = 0\n",
    "num_max_length = 0\n",
    "now_str = ''\n",
    "id = 0\n",
    "\n",
    "for data in tqdm(goods_similar):\n",
    "    if len(data)==7:\n",
    "        if data[5] == 1:\n",
    "            pass\n",
    "        else:\n",
    "            now_str = join_prompt_strings(prompt=\"对比相同和相似物资:\",str_a = data[3],str_b = data[4])\n",
    "            if len(now_str)>256:\n",
    "                num_max_length+=1\n",
    "            if len(now_str)>max_length:\n",
    "                max_length = len(now_str)\n",
    "            else:\n",
    "                final_data.append([id, now_str,data[5],data[6]])\n",
    "                id += 1\n",
    "\n",
    "for data in tqdm(goods_same):\n",
    "    if len(data) == 4:\n",
    "        now_str = join_prompt_strings(prompt=\"对比相同和相似物资:\",str_a = data[0],str_b = data[1])\n",
    "        if len(now_str)>256:\n",
    "                num_max_length+=1\n",
    "        if len(now_str)>max_length:\n",
    "            max_length = len(now_str)\n",
    "        else:\n",
    "            final_data.append([id,now_str,data[2],data[3]])\n",
    "            id += 1\n",
    "print(num_max_length)"
   ],
   "metadata": {
    "collapsed": false,
    "pycharm": {
     "name": "#%%\n"
    }
   }
  },
  {
   "cell_type": "code",
   "execution_count": 16,
   "outputs": [
    {
     "ename": "NameError",
     "evalue": "name 'final_data' is not defined",
     "output_type": "error",
     "traceback": [
      "\u001B[1;31m---------------------------------------------------------------------------\u001B[0m",
      "\u001B[1;31mNameError\u001B[0m                                 Traceback (most recent call last)",
      "Cell \u001B[1;32mIn[16], line 21\u001B[0m\n\u001B[0;32m     18\u001B[0m         \u001B[38;5;28;01mfor\u001B[39;00m i, data \u001B[38;5;129;01min\u001B[39;00m \u001B[38;5;28menumerate\u001B[39m(data_list):\n\u001B[0;32m     19\u001B[0m             writer\u001B[38;5;241m.\u001B[39mwriterow(data)\n\u001B[1;32m---> 21\u001B[0m train_data, test_data  \u001B[38;5;241m=\u001B[39m  split_data(\u001B[43mfinal_data\u001B[49m, test_size\u001B[38;5;241m=\u001B[39m\u001B[38;5;241m0.1\u001B[39m,stratify\u001B[38;5;241m=\u001B[39m\u001B[38;5;28;01mTrue\u001B[39;00m, random_state\u001B[38;5;241m=\u001B[39m\u001B[38;5;241m114514\u001B[39m)\n",
      "\u001B[1;31mNameError\u001B[0m: name 'final_data' is not defined"
     ]
    }
   ],
   "source": [
    "from sklearn.model_selection import train_test_split\n",
    "\n",
    "def split_data(data_list, test_size=0.1,stratify=False, random_state=42):\n",
    "    X = [data[0:2] for data in data_list]\n",
    "    y = [data[2:] for data in data_list]\n",
    "    if stratify:\n",
    "        X_train, X_test, y_train, y_test = train_test_split(X, y, test_size=test_size, random_state=random_state, stratify=y)\n",
    "    else:\n",
    "        X_train, X_test, y_train, y_test = train_test_split(X, y, test_size=test_size, random_state=random_state)\n",
    "    train_list = [x + list(y) for x, y in zip(X_train, y_train)]\n",
    "    test_list = [x + list(y) for x, y in zip(X_test, y_test)]\n",
    "    return train_list, test_list\n",
    "\n",
    "def export_to_csv(data_list, csv_path):\n",
    "    with open(csv_path, 'w', encoding='utf-8', newline='') as f:\n",
    "        writer = csv.writer(f)\n",
    "        writer.writerow(['id','data', 'same', 'similar'])  # 表头\n",
    "        for i, data in enumerate(data_list):\n",
    "            writer.writerow(data)\n",
    "\n",
    "train_data, test_data  =  split_data(final_data, test_size=0.1,stratify=True, random_state=114514)"
   ],
   "metadata": {
    "collapsed": false,
    "pycharm": {
     "name": "#%%\n"
    }
   }
  },
  {
   "cell_type": "code",
   "execution_count": 11,
   "outputs": [],
   "source": [
    "export_to_csv(train_data,'./processed/train.csv')\n",
    "export_to_csv(test_data, './processed/test.csv')"
   ],
   "metadata": {
    "collapsed": false,
    "pycharm": {
     "name": "#%%\n"
    }
   }
  },
  {
   "cell_type": "markdown",
   "source": [
    "# 抽取部分数据出来人工矫正"
   ],
   "metadata": {
    "collapsed": false,
    "pycharm": {
     "name": "#%% md\n"
    }
   }
  },
  {
   "cell_type": "code",
   "execution_count": 1,
   "outputs": [
    {
     "name": "stderr",
     "output_type": "stream",
     "text": [
      "133751it [00:00, 351907.32it/s]\n"
     ]
    }
   ],
   "source": [
    "# 人工矫正后数据作为参考,调整模型的阈值\n",
    "from DataProcess.utils.filehelper import read_csv_file\n",
    "from tqdm import tqdm\n",
    "import csv\n",
    "\n",
    "goods_test = read_csv_file('./processed/test.csv')[1:]\n"
   ],
   "metadata": {
    "collapsed": false,
    "pycharm": {
     "name": "#%%\n"
    }
   }
  },
  {
   "cell_type": "code",
   "execution_count": 17,
   "outputs": [
    {
     "name": "stderr",
     "output_type": "stream",
     "text": [
      "100%|██████████| 133750/133750 [00:00<00:00, 980973.19it/s]\n"
     ]
    }
   ],
   "source": [
    "import random\n",
    "def export_to_csv(data_list, csv_path):\n",
    "    with open(csv_path, 'w', encoding='utf-8', newline='') as f:\n",
    "        writer = csv.writer(f)\n",
    "        writer.writerow(['id','data', 'same', 'similar'])  # 表头\n",
    "        for i, data in enumerate(data_list):\n",
    "            writer.writerow(data)\n",
    "\n",
    "def extract_balanced_items(items,required_each_count=100):\n",
    "    # Step 3: Select items\n",
    "    selected_items = []\n",
    "    items_00 = []\n",
    "    items_01 = []\n",
    "    items_11 = []\n",
    "    for item in tqdm(items):\n",
    "        if int(item[2])==0 and int(item[3])==0:\n",
    "            items_00.append(item)\n",
    "        if int(item[2])==0 and int(item[3])==1:\n",
    "            items_01.append(item)\n",
    "        if int(item[2])==1 and int(item[3])==1:\n",
    "            items_11.append(item)\n",
    "    if required_each_count>=len(items):\n",
    "        return items\n",
    "    else:\n",
    "        selected_items.extend(random.sample(items_00, required_each_count))\n",
    "        selected_items.extend(random.sample(items_01, required_each_count))\n",
    "        selected_items.extend(random.sample(items_11, required_each_count))\n",
    "    return selected_items\n",
    "\n",
    "\n",
    "select_test = extract_balanced_items(goods_test,200)"
   ],
   "metadata": {
    "collapsed": false,
    "pycharm": {
     "name": "#%%\n"
    }
   }
  },
  {
   "cell_type": "code",
   "execution_count": 21,
   "outputs": [],
   "source": [
    "from operator import itemgetter\n",
    "processed_data_sorted = sorted(select_test,key=itemgetter(2), reverse=True)\n",
    "export_to_csv(processed_data_sorted,'./processed/test_sample.csv')\n",
    "export_to_csv(processed_data_sorted,'./processed/test_sample_correct.csv')"
   ],
   "metadata": {
    "collapsed": false,
    "pycharm": {
     "name": "#%%\n"
    }
   }
  },
  {
   "cell_type": "markdown",
   "source": [
    "# 对人工矫正后的数据数据分析对比"
   ],
   "metadata": {
    "collapsed": false,
    "pycharm": {
     "name": "#%% md\n"
    }
   }
  },
  {
   "cell_type": "code",
   "execution_count": 22,
   "outputs": [
    {
     "name": "stderr",
     "output_type": "stream",
     "text": [
      "601it [00:00, 200252.36it/s]\n",
      "601it [00:00, 300521.78it/s]\n"
     ]
    }
   ],
   "source": [
    "# 物资a,物资b,拼接后字符,标注标签相同,标注标签相似,矫正标签相同,矫正标签相似,预测标签相同概率,预测标签相似概率,之前的预测标签不相同概率,预测标签相同概率\n",
    "\n",
    "test_sample = read_csv_file('./processed/test_sample.csv')[1:]\n",
    "test_sample_correct = read_csv_file('./processed/test_sample_correct.csv')[1:]\n",
    "\n"
   ],
   "metadata": {
    "collapsed": false,
    "pycharm": {
     "name": "#%%\n"
    }
   }
  },
  {
   "cell_type": "code",
   "execution_count": 24,
   "outputs": [
    {
     "name": "stdout",
     "output_type": "stream",
     "text": [
      "['913667', '对比相同和相似物资:阳语智能差压变送器（单法兰）YPDFN/250Kpa/衬PTFE/DN80/50mm/0m/0.5%/100℃/HART,阳语YPDFN/250Kpa/衬PTFE/DN80/50mm/0m/0.5%/100℃/HART智能差压变送器（单法兰）', '1', '1']\n",
      "['913667', '对比相同和相似物资:阳语智能差压变送器（单法兰）YPDFN/250Kpa/衬PTFE/DN80/50mm/0m/0.5%/100℃/HART,阳语YPDFN/250Kpa/衬PTFE/DN80/50mm/0m/0.5%/100℃/HART智能差压变送器（单法兰）', '1', '1']\n"
     ]
    }
   ],
   "source": [
    "\n",
    "\n",
    "url_predict_new = ''\n",
    "url_predict_old = ''\n",
    "# 定义要发送的数据\n",
    "data_new = {\n",
    "    \"goods_a\": \"商品描述A\",\n",
    "    \"goods_b\": \"商品描述B\"\n",
    "}\n",
    "goods_statistics = []\n",
    "for s,sc in zip(test_sample,test_sample_correct):\n",
    "    goods_name = s[1].split.replace('对比相同和相似物资:','')\n",
    "    goods_a = goods_name[0]\n",
    "    goods_b = goods_name[1]\n",
    "    data_new['good']\n",
    "    print(s)\n",
    "    print(sc)\n",
    "    break"
   ],
   "metadata": {
    "collapsed": false,
    "pycharm": {
     "name": "#%%\n"
    }
   }
  },
  {
   "cell_type": "code",
   "execution_count": 26,
   "outputs": [
    {
     "data": {
      "text/plain": "['阳语智能差压变送器（单法兰）YPDFN/250Kpa/衬PTFE/DN80/50mm/0m/0.5%/100℃/HART',\n '阳语YPDFN/250Kpa/衬PTFE/DN80/50mm/0m/0.5%/100℃/HART智能差压变送器（单法兰）']"
     },
     "execution_count": 26,
     "metadata": {},
     "output_type": "execute_result"
    }
   ],
   "source": [
    "s[1].replace('对比相同和相似物资:','').split(',')"
   ],
   "metadata": {
    "collapsed": false,
    "pycharm": {
     "name": "#%%\n"
    }
   }
  },
  {
   "cell_type": "markdown",
   "source": [
    "# Predict"
   ],
   "metadata": {
    "collapsed": false,
    "pycharm": {
     "name": "#%% md\n"
    }
   }
  },
  {
   "cell_type": "code",
   "execution_count": 1,
   "outputs": [
    {
     "name": "stderr",
     "output_type": "stream",
     "text": [
      "E:\\Anaconda\\envs\\Bert-Classification\\lib\\site-packages\\tqdm\\auto.py:21: TqdmWarning: IProgress not found. Please update jupyter and ipywidgets. See https://ipywidgets.readthedocs.io/en/stable/user_install.html\n",
      "  from .autonotebook import tqdm as notebook_tqdm\n"
     ]
    }
   ],
   "source": [
    "from pybert.model.bert_for_multi_label import BertForMultiLable\n",
    "import torch\n",
    "from transformers import BertTokenizer\n",
    "from services.predict import data_predict\n",
    "\n",
    "# 获取当前可用的CUDA设备\n",
    "device = torch.device('cuda' if torch.cuda.is_available() else 'cpu')\n",
    "\n",
    "model = BertForMultiLable.from_pretrained('T:\\WorkSpace\\\\NLP\\Bert-Multi-Label-Text-Classification\\pybert\\output\\checkpoints\\\\bert', num_labels=2).to(device)\n",
    "\n",
    "tokenizer = BertTokenizer('T:\\WorkSpace\\\\NLP\\Bert-Multi-Label-Text-Classification\\pybert\\pretrain\\\\bert\\\\bert-uncased\\\\vocab.txt', True)"
   ],
   "metadata": {
    "collapsed": false,
    "pycharm": {
     "name": "#%%\n"
    }
   }
  },
  {
   "cell_type": "code",
   "execution_count": 2,
   "outputs": [
    {
     "name": "stdout",
     "output_type": "stream",
     "text": [
      "tensor([[0.0160, 0.5531]], device='cuda:0')\n"
     ]
    }
   ],
   "source": [
    "examples, predict_result = data_predict(str_a='FORANT笔式pH测试仪871174370~14pH1台',\n",
    "        str_b='BANTE/般特六合一水质检测仪M852-1~15pH1台',\n",
    "        model=model,tokenizer=tokenizer,\n",
    "        max_seq_len=512,example_type='predict',device=device)\n",
    "print(predict_result)"
   ],
   "metadata": {
    "collapsed": false,
    "pycharm": {
     "name": "#%%\n"
    }
   }
  },
  {
   "cell_type": "code",
   "execution_count": 3,
   "outputs": [
    {
     "name": "stderr",
     "output_type": "stream",
     "text": [
      "100%|██████████| 1000/1000 [00:14<00:00, 67.82it/s]\n"
     ]
    }
   ],
   "source": [
    "from tqdm import tqdm\n",
    "\n",
    "num_times = 1000\n",
    "\n",
    "s = 's'\n",
    "for i in tqdm(range(num_times)):\n",
    "    # 发送POST请求并获取响应\n",
    "   examples, predict_result = data_predict(str_a='FORANT笔式pH测试仪871174370~14pH1台'+i*s,\n",
    "        str_b='BANTE/般特六合一水质检测仪M852-1~15pH1台',\n",
    "        model=model,tokenizer=tokenizer,\n",
    "        max_seq_len=512,example_type='predict',device=device)"
   ],
   "metadata": {
    "collapsed": false,
    "pycharm": {
     "name": "#%%\n"
    }
   }
  },
  {
   "cell_type": "code",
   "execution_count": null,
   "outputs": [],
   "source": [
    "import requests\n",
    "from tqdm import tqdm\n",
    "\n",
    "num_times = 1000\n",
    "# 修改为您的API地址，如果在本地运行，可以使用 http://127.0.0.1:8000/predict\n",
    "url = \"http://localhost:8000/predict\"\n",
    "\n",
    "# 定义要发送的数据\n",
    "data = {\n",
    "    \"goods_a\": \"商品描述A\",\n",
    "    \"goods_b\": \"商品描述B\"\n",
    "}\n",
    "\n",
    "for i in tqdm(range(num_times)):\n",
    "    # 发送POST请求并获取响应\n",
    "    response = requests.post(url, json=data)"
   ],
   "metadata": {
    "collapsed": false,
    "pycharm": {
     "name": "#%%\n"
    }
   }
  },
  {
   "cell_type": "code",
   "execution_count": null,
   "outputs": [],
   "source": [],
   "metadata": {
    "collapsed": false,
    "pycharm": {
     "name": "#%%\n"
    }
   }
  }
 ],
 "metadata": {
  "kernelspec": {
   "name": "bertclass",
   "language": "python",
   "display_name": "BertClass"
  },
  "language_info": {
   "codemirror_mode": {
    "name": "ipython",
    "version": 2
   },
   "file_extension": ".py",
   "mimetype": "text/x-python",
   "name": "python",
   "nbconvert_exporter": "python",
   "pygments_lexer": "ipython2",
   "version": "2.7.6"
  }
 },
 "nbformat": 4,
 "nbformat_minor": 0
}